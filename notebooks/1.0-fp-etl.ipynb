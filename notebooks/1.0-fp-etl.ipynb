{
 "cells": [
  {
   "cell_type": "markdown",
   "metadata": {},
   "source": [
    "# Extracción, transformación y carga (ETL)"
   ]
  },
  {
   "cell_type": "markdown",
   "metadata": {},
   "source": [
    "En este notebook, nuestro objetivo es realizar el proceso de extracción, transformación y carga (ETL) de los datos de siniestros viales en la Ciudad de Buenos Aires, para poder disponer de ellos en un formato adecuado para su posterior análisis y visualización. Este proceso nos permitirá acceder a la información de los siniestros y las víctimas de forma estructurada y limpia, así como resolver los posibles problemas de calidad y consistencia de los datos."
   ]
  },
  {
   "cell_type": "markdown",
   "metadata": {},
   "source": [
    "## 0 Configuraciones Globales e Importaciones"
   ]
  },
  {
   "cell_type": "markdown",
   "metadata": {},
   "source": [
    "En esta sección, importamos todas las bibliotecas y/o módulos necesarios para nuestro proceso ETL y establecemos configuraciones globales de ser requerido."
   ]
  },
  {
   "cell_type": "markdown",
   "metadata": {},
   "source": [
    "### Importación de Bibliotecas y/o Módulos"
   ]
  },
  {
   "cell_type": "code",
   "execution_count": 1,
   "metadata": {},
   "outputs": [
    {
     "name": "stdout",
     "output_type": "stream",
     "text": [
      "system version: 3.11.5 (tags/v3.11.5:cce6ba9, Aug 24 2023, 14:38:34) [MSC v.1936 64 bit (AMD64)]\n",
      "pandas version: 2.1.0\n",
      "Setup Complete\n"
     ]
    }
   ],
   "source": [
    "import sys\n",
    "import pandas as pd\n",
    "from utils import utilitarios as u\n",
    "\n",
    "\n",
    "print(f\"system version: {sys.version}\")\n",
    "print(f\"pandas version: {pd.__version__}\")\n",
    "print(\"Setup Complete\")"
   ]
  },
  {
   "cell_type": "markdown",
   "metadata": {},
   "source": [
    "## 1 Extracción"
   ]
  },
  {
   "cell_type": "markdown",
   "metadata": {},
   "source": [
    "En esta sección, extraemos los datasets de la fuente de datos y describimos a detalle su contenido."
   ]
  },
  {
   "cell_type": "markdown",
   "metadata": {},
   "source": [
    "### 1.1 Extracción de los datos"
   ]
  },
  {
   "cell_type": "markdown",
   "metadata": {},
   "source": [
    "En esta sección, extraemos los datos de cada hoja de los libros de Excel `homicidios.xlsx` y `lesiones.xlsx` haciendo uso de la función `read_excel_files()` del módulo `utils`, que lee todos los archivos .xlsx en una carpeta y los almacena en un diccionario de DataFrames."
   ]
  },
  {
   "cell_type": "code",
   "execution_count": 2,
   "metadata": {},
   "outputs": [
    {
     "name": "stdout",
     "output_type": "stream",
     "text": [
      "DataFrame 1: homicidios.xlsx_HECHOS\n",
      "DataFrame 2: homicidios.xlsx_DICCIONARIO_HECHOS\n",
      "DataFrame 3: homicidios.xlsx_VICTIMAS\n",
      "DataFrame 4: homicidios.xlsx_DICCIONARIO_VICTIMAS\n",
      "DataFrame 5: homicidios.xlsx_clas\n",
      "Cantidad de DataFrames: 5\n"
     ]
    }
   ],
   "source": [
    "folder_path = '../data/raw'\n",
    "dfs = u.read_excel_files(folder_path)"
   ]
  },
  {
   "cell_type": "markdown",
   "metadata": {},
   "source": [
    "#### 1.1.1 Dataset `homicidios.xlsx`"
   ]
  },
  {
   "cell_type": "markdown",
   "metadata": {},
   "source": [
    "Observamos los datos extraidos de las hojas `HECHOS` y `VICTIMAS` del libro de Excel `homicidios.xlsx`."
   ]
  },
  {
   "cell_type": "markdown",
   "metadata": {},
   "source": [
    "##### 1.1.1.1 `homicidios_hechos`"
   ]
  },
  {
   "cell_type": "code",
   "execution_count": 3,
   "metadata": {},
   "outputs": [
    {
     "data": {
      "text/html": [
       "<div>\n",
       "<style scoped>\n",
       "    .dataframe tbody tr th:only-of-type {\n",
       "        vertical-align: middle;\n",
       "    }\n",
       "\n",
       "    .dataframe tbody tr th {\n",
       "        vertical-align: top;\n",
       "    }\n",
       "\n",
       "    .dataframe thead th {\n",
       "        text-align: right;\n",
       "    }\n",
       "</style>\n",
       "<table border=\"1\" class=\"dataframe\">\n",
       "  <thead>\n",
       "    <tr style=\"text-align: right;\">\n",
       "      <th></th>\n",
       "      <th>ID</th>\n",
       "      <th>N_VICTIMAS</th>\n",
       "      <th>FECHA</th>\n",
       "      <th>AAAA</th>\n",
       "      <th>MM</th>\n",
       "      <th>DD</th>\n",
       "      <th>HORA</th>\n",
       "      <th>HH</th>\n",
       "      <th>LUGAR_DEL_HECHO</th>\n",
       "      <th>TIPO_DE_CALLE</th>\n",
       "      <th>...</th>\n",
       "      <th>Altura</th>\n",
       "      <th>Cruce</th>\n",
       "      <th>Dirección Normalizada</th>\n",
       "      <th>COMUNA</th>\n",
       "      <th>XY (CABA)</th>\n",
       "      <th>pos x</th>\n",
       "      <th>pos y</th>\n",
       "      <th>PARTICIPANTES</th>\n",
       "      <th>VICTIMA</th>\n",
       "      <th>ACUSADO</th>\n",
       "    </tr>\n",
       "  </thead>\n",
       "  <tbody>\n",
       "    <tr>\n",
       "      <th>0</th>\n",
       "      <td>2016-0001</td>\n",
       "      <td>1</td>\n",
       "      <td>2016-01-01</td>\n",
       "      <td>2016</td>\n",
       "      <td>1</td>\n",
       "      <td>1</td>\n",
       "      <td>04:00:00</td>\n",
       "      <td>4</td>\n",
       "      <td>AV PIEDRA BUENA Y AV FERNANDEZ DE LA CRUZ</td>\n",
       "      <td>AVENIDA</td>\n",
       "      <td>...</td>\n",
       "      <td>NaN</td>\n",
       "      <td>FERNANDEZ DE LA CRUZ, F., GRAL. AV.</td>\n",
       "      <td>PIEDRA BUENA AV. y FERNANDEZ DE LA CRUZ, F., G...</td>\n",
       "      <td>8</td>\n",
       "      <td>Point (98896.78238426 93532.43437792)</td>\n",
       "      <td>-58.47533969</td>\n",
       "      <td>-34.68757022</td>\n",
       "      <td>MOTO-AUTO</td>\n",
       "      <td>MOTO</td>\n",
       "      <td>AUTO</td>\n",
       "    </tr>\n",
       "    <tr>\n",
       "      <th>1</th>\n",
       "      <td>2016-0002</td>\n",
       "      <td>1</td>\n",
       "      <td>2016-01-02</td>\n",
       "      <td>2016</td>\n",
       "      <td>1</td>\n",
       "      <td>2</td>\n",
       "      <td>01:15:00</td>\n",
       "      <td>1</td>\n",
       "      <td>AV GRAL PAZ  Y AV DE LOS CORRALES</td>\n",
       "      <td>GRAL PAZ</td>\n",
       "      <td>...</td>\n",
       "      <td>NaN</td>\n",
       "      <td>DE LOS CORRALES AV.</td>\n",
       "      <td>PAZ, GRAL. AV. y DE LOS CORRALES AV.</td>\n",
       "      <td>9</td>\n",
       "      <td>Point (95832.05571093 95505.41641999)</td>\n",
       "      <td>-58.50877521</td>\n",
       "      <td>-34.66977709</td>\n",
       "      <td>AUTO-PASAJEROS</td>\n",
       "      <td>AUTO</td>\n",
       "      <td>PASAJEROS</td>\n",
       "    </tr>\n",
       "    <tr>\n",
       "      <th>2</th>\n",
       "      <td>2016-0003</td>\n",
       "      <td>1</td>\n",
       "      <td>2016-01-03</td>\n",
       "      <td>2016</td>\n",
       "      <td>1</td>\n",
       "      <td>3</td>\n",
       "      <td>07:00:00</td>\n",
       "      <td>7</td>\n",
       "      <td>AV ENTRE RIOS 2034</td>\n",
       "      <td>AVENIDA</td>\n",
       "      <td>...</td>\n",
       "      <td>2034.0</td>\n",
       "      <td>NaN</td>\n",
       "      <td>ENTRE RIOS AV. 2034</td>\n",
       "      <td>1</td>\n",
       "      <td>Point (106684.29090040 99706.57687843)</td>\n",
       "      <td>-58.39040293</td>\n",
       "      <td>-34.63189362</td>\n",
       "      <td>MOTO-AUTO</td>\n",
       "      <td>MOTO</td>\n",
       "      <td>AUTO</td>\n",
       "    </tr>\n",
       "    <tr>\n",
       "      <th>3</th>\n",
       "      <td>2016-0004</td>\n",
       "      <td>1</td>\n",
       "      <td>2016-01-10</td>\n",
       "      <td>2016</td>\n",
       "      <td>1</td>\n",
       "      <td>10</td>\n",
       "      <td>00:00:00</td>\n",
       "      <td>0</td>\n",
       "      <td>AV LARRAZABAL Y GRAL VILLEGAS CONRADO</td>\n",
       "      <td>AVENIDA</td>\n",
       "      <td>...</td>\n",
       "      <td>NaN</td>\n",
       "      <td>VILLEGAS, CONRADO, GRAL.</td>\n",
       "      <td>LARRAZABAL AV. y VILLEGAS, CONRADO, GRAL.</td>\n",
       "      <td>8</td>\n",
       "      <td>Point (99840.65224780 94269.16534422)</td>\n",
       "      <td>-58.46503904</td>\n",
       "      <td>-34.68092974</td>\n",
       "      <td>MOTO-SD</td>\n",
       "      <td>MOTO</td>\n",
       "      <td>SD</td>\n",
       "    </tr>\n",
       "    <tr>\n",
       "      <th>4</th>\n",
       "      <td>2016-0005</td>\n",
       "      <td>1</td>\n",
       "      <td>2016-01-21</td>\n",
       "      <td>2016</td>\n",
       "      <td>1</td>\n",
       "      <td>21</td>\n",
       "      <td>05:20:00</td>\n",
       "      <td>5</td>\n",
       "      <td>AV SAN JUAN Y PRESIDENTE LUIS SAENZ PEÑA</td>\n",
       "      <td>AVENIDA</td>\n",
       "      <td>...</td>\n",
       "      <td>NaN</td>\n",
       "      <td>SAENZ PE?A, LUIS, PRES.</td>\n",
       "      <td>SAN JUAN AV. y SAENZ PEÃ‘A, LUIS, PRES.</td>\n",
       "      <td>1</td>\n",
       "      <td>Point (106980.32827929 100752.16915795)</td>\n",
       "      <td>-58.38718297</td>\n",
       "      <td>-34.62246630</td>\n",
       "      <td>MOTO-PASAJEROS</td>\n",
       "      <td>MOTO</td>\n",
       "      <td>PASAJEROS</td>\n",
       "    </tr>\n",
       "  </tbody>\n",
       "</table>\n",
       "<p>5 rows × 21 columns</p>\n",
       "</div>"
      ],
      "text/plain": [
       "          ID  N_VICTIMAS      FECHA  AAAA  MM  DD      HORA HH  \\\n",
       "0  2016-0001           1 2016-01-01  2016   1   1  04:00:00  4   \n",
       "1  2016-0002           1 2016-01-02  2016   1   2  01:15:00  1   \n",
       "2  2016-0003           1 2016-01-03  2016   1   3  07:00:00  7   \n",
       "3  2016-0004           1 2016-01-10  2016   1  10  00:00:00  0   \n",
       "4  2016-0005           1 2016-01-21  2016   1  21  05:20:00  5   \n",
       "\n",
       "                             LUGAR_DEL_HECHO TIPO_DE_CALLE  ...  Altura  \\\n",
       "0  AV PIEDRA BUENA Y AV FERNANDEZ DE LA CRUZ       AVENIDA  ...     NaN   \n",
       "1          AV GRAL PAZ  Y AV DE LOS CORRALES      GRAL PAZ  ...     NaN   \n",
       "2                         AV ENTRE RIOS 2034       AVENIDA  ...  2034.0   \n",
       "3      AV LARRAZABAL Y GRAL VILLEGAS CONRADO       AVENIDA  ...     NaN   \n",
       "4  AV SAN JUAN Y PRESIDENTE LUIS SAENZ PEÑA        AVENIDA  ...     NaN   \n",
       "\n",
       "                                 Cruce  \\\n",
       "0  FERNANDEZ DE LA CRUZ, F., GRAL. AV.   \n",
       "1                  DE LOS CORRALES AV.   \n",
       "2                                  NaN   \n",
       "3             VILLEGAS, CONRADO, GRAL.   \n",
       "4              SAENZ PE?A, LUIS, PRES.   \n",
       "\n",
       "                               Dirección Normalizada COMUNA  \\\n",
       "0  PIEDRA BUENA AV. y FERNANDEZ DE LA CRUZ, F., G...      8   \n",
       "1               PAZ, GRAL. AV. y DE LOS CORRALES AV.      9   \n",
       "2                                ENTRE RIOS AV. 2034      1   \n",
       "3          LARRAZABAL AV. y VILLEGAS, CONRADO, GRAL.      8   \n",
       "4            SAN JUAN AV. y SAENZ PEÃ‘A, LUIS, PRES.      1   \n",
       "\n",
       "                                 XY (CABA)         pos x         pos y  \\\n",
       "0    Point (98896.78238426 93532.43437792)  -58.47533969  -34.68757022   \n",
       "1    Point (95832.05571093 95505.41641999)  -58.50877521  -34.66977709   \n",
       "2   Point (106684.29090040 99706.57687843)  -58.39040293  -34.63189362   \n",
       "3    Point (99840.65224780 94269.16534422)  -58.46503904  -34.68092974   \n",
       "4  Point (106980.32827929 100752.16915795)  -58.38718297  -34.62246630   \n",
       "\n",
       "    PARTICIPANTES VICTIMA    ACUSADO  \n",
       "0       MOTO-AUTO    MOTO       AUTO  \n",
       "1  AUTO-PASAJEROS    AUTO  PASAJEROS  \n",
       "2       MOTO-AUTO    MOTO       AUTO  \n",
       "3         MOTO-SD    MOTO         SD  \n",
       "4  MOTO-PASAJEROS    MOTO  PASAJEROS  \n",
       "\n",
       "[5 rows x 21 columns]"
      ]
     },
     "execution_count": 3,
     "metadata": {},
     "output_type": "execute_result"
    }
   ],
   "source": [
    "# Extraemos el df correspondiente del diccionario de DataFrames\n",
    "homicidios_hechos_df = dfs[\"homicidios.xlsx_HECHOS\"]\n",
    "homicidios_hechos_df.head()"
   ]
  },
  {
   "cell_type": "code",
   "execution_count": 4,
   "metadata": {},
   "outputs": [
    {
     "name": "stdout",
     "output_type": "stream",
     "text": [
      "<class 'pandas.core.frame.DataFrame'>\n",
      "RangeIndex: 696 entries, 0 to 695\n",
      "Data columns (total 21 columns):\n",
      " #   Column                 Non-Null Count  Dtype         \n",
      "---  ------                 --------------  -----         \n",
      " 0   ID                     696 non-null    object        \n",
      " 1   N_VICTIMAS             696 non-null    int64         \n",
      " 2   FECHA                  696 non-null    datetime64[ns]\n",
      " 3   AAAA                   696 non-null    int64         \n",
      " 4   MM                     696 non-null    int64         \n",
      " 5   DD                     696 non-null    int64         \n",
      " 6   HORA                   696 non-null    object        \n",
      " 7   HH                     696 non-null    object        \n",
      " 8   LUGAR_DEL_HECHO        696 non-null    object        \n",
      " 9   TIPO_DE_CALLE          696 non-null    object        \n",
      " 10  Calle                  695 non-null    object        \n",
      " 11  Altura                 129 non-null    float64       \n",
      " 12  Cruce                  525 non-null    object        \n",
      " 13  Dirección Normalizada  688 non-null    object        \n",
      " 14  COMUNA                 696 non-null    int64         \n",
      " 15  XY (CABA)              696 non-null    object        \n",
      " 16  pos x                  696 non-null    object        \n",
      " 17  pos y                  696 non-null    object        \n",
      " 18  PARTICIPANTES          696 non-null    object        \n",
      " 19  VICTIMA                696 non-null    object        \n",
      " 20  ACUSADO                696 non-null    object        \n",
      "dtypes: datetime64[ns](1), float64(1), int64(5), object(14)\n",
      "memory usage: 114.3+ KB\n"
     ]
    }
   ],
   "source": [
    "homicidios_hechos_df.info()"
   ]
  },
  {
   "cell_type": "markdown",
   "metadata": {},
   "source": [
    "##### 1.1.1.2 `homicidios_victimas`"
   ]
  },
  {
   "cell_type": "code",
   "execution_count": 5,
   "metadata": {},
   "outputs": [
    {
     "data": {
      "text/html": [
       "<div>\n",
       "<style scoped>\n",
       "    .dataframe tbody tr th:only-of-type {\n",
       "        vertical-align: middle;\n",
       "    }\n",
       "\n",
       "    .dataframe tbody tr th {\n",
       "        vertical-align: top;\n",
       "    }\n",
       "\n",
       "    .dataframe thead th {\n",
       "        text-align: right;\n",
       "    }\n",
       "</style>\n",
       "<table border=\"1\" class=\"dataframe\">\n",
       "  <thead>\n",
       "    <tr style=\"text-align: right;\">\n",
       "      <th></th>\n",
       "      <th>ID_hecho</th>\n",
       "      <th>FECHA</th>\n",
       "      <th>AAAA</th>\n",
       "      <th>MM</th>\n",
       "      <th>DD</th>\n",
       "      <th>ROL</th>\n",
       "      <th>VICTIMA</th>\n",
       "      <th>SEXO</th>\n",
       "      <th>EDAD</th>\n",
       "      <th>FECHA_FALLECIMIENTO</th>\n",
       "    </tr>\n",
       "  </thead>\n",
       "  <tbody>\n",
       "    <tr>\n",
       "      <th>0</th>\n",
       "      <td>2016-0001</td>\n",
       "      <td>2016-01-01</td>\n",
       "      <td>2016</td>\n",
       "      <td>1</td>\n",
       "      <td>1</td>\n",
       "      <td>CONDUCTOR</td>\n",
       "      <td>MOTO</td>\n",
       "      <td>MASCULINO</td>\n",
       "      <td>19</td>\n",
       "      <td>2016-01-01 00:00:00</td>\n",
       "    </tr>\n",
       "    <tr>\n",
       "      <th>1</th>\n",
       "      <td>2016-0002</td>\n",
       "      <td>2016-01-02</td>\n",
       "      <td>2016</td>\n",
       "      <td>1</td>\n",
       "      <td>2</td>\n",
       "      <td>CONDUCTOR</td>\n",
       "      <td>AUTO</td>\n",
       "      <td>MASCULINO</td>\n",
       "      <td>70</td>\n",
       "      <td>2016-01-02 00:00:00</td>\n",
       "    </tr>\n",
       "    <tr>\n",
       "      <th>2</th>\n",
       "      <td>2016-0003</td>\n",
       "      <td>2016-01-03</td>\n",
       "      <td>2016</td>\n",
       "      <td>1</td>\n",
       "      <td>3</td>\n",
       "      <td>CONDUCTOR</td>\n",
       "      <td>MOTO</td>\n",
       "      <td>MASCULINO</td>\n",
       "      <td>30</td>\n",
       "      <td>2016-01-03 00:00:00</td>\n",
       "    </tr>\n",
       "    <tr>\n",
       "      <th>3</th>\n",
       "      <td>2016-0004</td>\n",
       "      <td>2016-01-10</td>\n",
       "      <td>2016</td>\n",
       "      <td>1</td>\n",
       "      <td>10</td>\n",
       "      <td>CONDUCTOR</td>\n",
       "      <td>MOTO</td>\n",
       "      <td>MASCULINO</td>\n",
       "      <td>18</td>\n",
       "      <td>SD</td>\n",
       "    </tr>\n",
       "    <tr>\n",
       "      <th>4</th>\n",
       "      <td>2016-0005</td>\n",
       "      <td>2016-01-21</td>\n",
       "      <td>2016</td>\n",
       "      <td>1</td>\n",
       "      <td>21</td>\n",
       "      <td>CONDUCTOR</td>\n",
       "      <td>MOTO</td>\n",
       "      <td>MASCULINO</td>\n",
       "      <td>29</td>\n",
       "      <td>2016-02-01 00:00:00</td>\n",
       "    </tr>\n",
       "  </tbody>\n",
       "</table>\n",
       "</div>"
      ],
      "text/plain": [
       "    ID_hecho      FECHA  AAAA  MM  DD        ROL VICTIMA       SEXO EDAD  \\\n",
       "0  2016-0001 2016-01-01  2016   1   1  CONDUCTOR    MOTO  MASCULINO   19   \n",
       "1  2016-0002 2016-01-02  2016   1   2  CONDUCTOR    AUTO  MASCULINO   70   \n",
       "2  2016-0003 2016-01-03  2016   1   3  CONDUCTOR    MOTO  MASCULINO   30   \n",
       "3  2016-0004 2016-01-10  2016   1  10  CONDUCTOR    MOTO  MASCULINO   18   \n",
       "4  2016-0005 2016-01-21  2016   1  21  CONDUCTOR    MOTO  MASCULINO   29   \n",
       "\n",
       "   FECHA_FALLECIMIENTO  \n",
       "0  2016-01-01 00:00:00  \n",
       "1  2016-01-02 00:00:00  \n",
       "2  2016-01-03 00:00:00  \n",
       "3                   SD  \n",
       "4  2016-02-01 00:00:00  "
      ]
     },
     "execution_count": 5,
     "metadata": {},
     "output_type": "execute_result"
    }
   ],
   "source": [
    "# Extraemos el df correspondiente del diccionario de DataFrames\n",
    "homicidios_victimas_df = dfs[\"homicidios.xlsx_VICTIMAS\"]\n",
    "homicidios_victimas_df.head()"
   ]
  },
  {
   "cell_type": "code",
   "execution_count": 6,
   "metadata": {},
   "outputs": [
    {
     "name": "stdout",
     "output_type": "stream",
     "text": [
      "<class 'pandas.core.frame.DataFrame'>\n",
      "RangeIndex: 717 entries, 0 to 716\n",
      "Data columns (total 10 columns):\n",
      " #   Column               Non-Null Count  Dtype         \n",
      "---  ------               --------------  -----         \n",
      " 0   ID_hecho             717 non-null    object        \n",
      " 1   FECHA                717 non-null    datetime64[ns]\n",
      " 2   AAAA                 717 non-null    int64         \n",
      " 3   MM                   717 non-null    int64         \n",
      " 4   DD                   717 non-null    int64         \n",
      " 5   ROL                  717 non-null    object        \n",
      " 6   VICTIMA              717 non-null    object        \n",
      " 7   SEXO                 717 non-null    object        \n",
      " 8   EDAD                 717 non-null    object        \n",
      " 9   FECHA_FALLECIMIENTO  717 non-null    object        \n",
      "dtypes: datetime64[ns](1), int64(3), object(6)\n",
      "memory usage: 56.1+ KB\n"
     ]
    }
   ],
   "source": [
    "homicidios_victimas_df.info()"
   ]
  },
  {
   "cell_type": "markdown",
   "metadata": {},
   "source": [
    "### 1.2 Descripción de los datasets."
   ]
  },
  {
   "cell_type": "markdown",
   "metadata": {},
   "source": [
    "#### 1.2.1 Dataset `homicidios_hechos`"
   ]
  },
  {
   "cell_type": "markdown",
   "metadata": {},
   "source": [
    "Hemos observado que `homicidios_hechos` contiene **696** registros y **21** variables con datos de siniestros viales con víctimas fatales. La descripción de cada variable puede ser consultada en las [Notas](../references/NOTAS_HOMICIDIOS_SINIESTRO_VIAL.pdf) para el uso del dataset de homicidios de siniestros viales."
   ]
  },
  {
   "cell_type": "markdown",
   "metadata": {},
   "source": [
    "#### 1.2.2 Dataset `homicidios_victimas`"
   ]
  },
  {
   "cell_type": "markdown",
   "metadata": {},
   "source": [
    "Por otro parte, `homicidios_victimas` contiene **717** registros y **10** variables con información sobre las victimas de estos. La descripción de cada variable puede ser consultada en las [Notas](../references/NOTAS_HOMICIDIOS_SINIESTRO_VIAL.pdf) para el uso del dataset de homicidios de siniestros viales."
   ]
  },
  {
   "cell_type": "markdown",
   "metadata": {},
   "source": [
    "## 2 Transformación"
   ]
  },
  {
   "cell_type": "markdown",
   "metadata": {},
   "source": [
    "En esta sección, realizamos la limpieza inicial de los datos y las transformaciones necesarias. Esto puede incluir la creación de nuevas columnas a partir de las existentes, la eliminación de duplicados o columnas innecesarias, la gestión de valores nulos o la corrección de tipos de datos."
   ]
  },
  {
   "cell_type": "markdown",
   "metadata": {},
   "source": [
    "### 2.1 Creación del DataFrame `homicidios`"
   ]
  },
  {
   "cell_type": "markdown",
   "metadata": {},
   "source": [
    "Vamos a unir los DataFrames `homicidios_hechos` y `homicidios_victimas`, esto nos permitirá tener un solo DataFrame con toda la información relevante sobre los siniestros viales con víctimas fatales . Vamos a hacer uso de la función merge de pandas para hacer esta operación."
   ]
  },
  {
   "cell_type": "markdown",
   "metadata": {},
   "source": [
    "* Primero, seleccionamos solo las columnas necesarias:"
   ]
  },
  {
   "cell_type": "code",
   "execution_count": 7,
   "metadata": {},
   "outputs": [
    {
     "data": {
      "text/plain": [
       "Index(['ID', 'N_VICTIMAS', 'FECHA', 'AAAA', 'MM', 'DD', 'HORA', 'HH',\n",
       "       'LUGAR_DEL_HECHO', 'TIPO_DE_CALLE', 'Calle', 'Altura', 'Cruce',\n",
       "       'Dirección Normalizada', 'COMUNA', 'XY (CABA)', 'pos x', 'pos y',\n",
       "       'PARTICIPANTES', 'VICTIMA', 'ACUSADO'],\n",
       "      dtype='object')"
      ]
     },
     "execution_count": 7,
     "metadata": {},
     "output_type": "execute_result"
    }
   ],
   "source": [
    "homicidios_hechos_df.columns"
   ]
  },
  {
   "cell_type": "code",
   "execution_count": 8,
   "metadata": {},
   "outputs": [
    {
     "data": {
      "text/plain": [
       "Index(['ID_hecho', 'FECHA', 'AAAA', 'MM', 'DD', 'ROL', 'VICTIMA', 'SEXO',\n",
       "       'EDAD', 'FECHA_FALLECIMIENTO'],\n",
       "      dtype='object')"
      ]
     },
     "execution_count": 8,
     "metadata": {},
     "output_type": "execute_result"
    }
   ],
   "source": [
    "homicidios_victimas_df.columns"
   ]
  },
  {
   "cell_type": "markdown",
   "metadata": {},
   "source": [
    "En este punto, es importante aclarar que el criterio en el que me he basado para seleccionar solo las columnas que considero relevantes está sustentado en el análisis previo de las variables, apoyado en el diccionario de datos, para seleccionar aquellas variables que considero aportan información relevante y no seleccionar o descartar aquellas que contienen datos redundantes o que pueden ser extraídos a partir de otras columnas. Las variables abajo listadas son las que considero con mayor relevancia para nuestro análisis."
   ]
  },
  {
   "cell_type": "code",
   "execution_count": 9,
   "metadata": {},
   "outputs": [],
   "source": [
    "homicidios_hechos_columns = ['ID', 'N_VICTIMAS', 'FECHA', 'HORA', 'TIPO_DE_CALLE', 'Cruce', 'COMUNA', 'pos x', 'pos y', 'PARTICIPANTES', 'VICTIMA', 'ACUSADO']\n",
    "homicidios_victimas_columns = ['ID_hecho', 'ROL', 'SEXO','EDAD']"
   ]
  },
  {
   "cell_type": "markdown",
   "metadata": {},
   "source": [
    "* Segundo, creamos subsets de los DataFrames con solo las columnas necesarias:"
   ]
  },
  {
   "cell_type": "code",
   "execution_count": 10,
   "metadata": {},
   "outputs": [],
   "source": [
    "homicidios_hechos_subset = homicidios_hechos_df[homicidios_hechos_columns]\n",
    "homicidios_victimas_subset = homicidios_victimas_df[homicidios_victimas_columns]"
   ]
  },
  {
   "cell_type": "markdown",
   "metadata": {},
   "source": [
    "* Luego, hacemos un merge entre `homicidios_hechos_df` en todas las filas de la columna `ID` que coincidan con las filas de la columna `ID_hecho` de `homicidios_victimas_subset` ."
   ]
  },
  {
   "cell_type": "code",
   "execution_count": 11,
   "metadata": {},
   "outputs": [
    {
     "data": {
      "text/html": [
       "<div>\n",
       "<style scoped>\n",
       "    .dataframe tbody tr th:only-of-type {\n",
       "        vertical-align: middle;\n",
       "    }\n",
       "\n",
       "    .dataframe tbody tr th {\n",
       "        vertical-align: top;\n",
       "    }\n",
       "\n",
       "    .dataframe thead th {\n",
       "        text-align: right;\n",
       "    }\n",
       "</style>\n",
       "<table border=\"1\" class=\"dataframe\">\n",
       "  <thead>\n",
       "    <tr style=\"text-align: right;\">\n",
       "      <th></th>\n",
       "      <th>ID</th>\n",
       "      <th>N_VICTIMAS</th>\n",
       "      <th>FECHA</th>\n",
       "      <th>HORA</th>\n",
       "      <th>TIPO_DE_CALLE</th>\n",
       "      <th>Cruce</th>\n",
       "      <th>COMUNA</th>\n",
       "      <th>pos x</th>\n",
       "      <th>pos y</th>\n",
       "      <th>PARTICIPANTES</th>\n",
       "      <th>VICTIMA</th>\n",
       "      <th>ACUSADO</th>\n",
       "      <th>ROL</th>\n",
       "      <th>SEXO</th>\n",
       "      <th>EDAD</th>\n",
       "    </tr>\n",
       "  </thead>\n",
       "  <tbody>\n",
       "    <tr>\n",
       "      <th>0</th>\n",
       "      <td>2016-0001</td>\n",
       "      <td>1</td>\n",
       "      <td>2016-01-01</td>\n",
       "      <td>04:00:00</td>\n",
       "      <td>AVENIDA</td>\n",
       "      <td>FERNANDEZ DE LA CRUZ, F., GRAL. AV.</td>\n",
       "      <td>8</td>\n",
       "      <td>-58.47533969</td>\n",
       "      <td>-34.68757022</td>\n",
       "      <td>MOTO-AUTO</td>\n",
       "      <td>MOTO</td>\n",
       "      <td>AUTO</td>\n",
       "      <td>CONDUCTOR</td>\n",
       "      <td>MASCULINO</td>\n",
       "      <td>19</td>\n",
       "    </tr>\n",
       "    <tr>\n",
       "      <th>1</th>\n",
       "      <td>2016-0002</td>\n",
       "      <td>1</td>\n",
       "      <td>2016-01-02</td>\n",
       "      <td>01:15:00</td>\n",
       "      <td>GRAL PAZ</td>\n",
       "      <td>DE LOS CORRALES AV.</td>\n",
       "      <td>9</td>\n",
       "      <td>-58.50877521</td>\n",
       "      <td>-34.66977709</td>\n",
       "      <td>AUTO-PASAJEROS</td>\n",
       "      <td>AUTO</td>\n",
       "      <td>PASAJEROS</td>\n",
       "      <td>CONDUCTOR</td>\n",
       "      <td>MASCULINO</td>\n",
       "      <td>70</td>\n",
       "    </tr>\n",
       "    <tr>\n",
       "      <th>2</th>\n",
       "      <td>2016-0003</td>\n",
       "      <td>1</td>\n",
       "      <td>2016-01-03</td>\n",
       "      <td>07:00:00</td>\n",
       "      <td>AVENIDA</td>\n",
       "      <td>NaN</td>\n",
       "      <td>1</td>\n",
       "      <td>-58.39040293</td>\n",
       "      <td>-34.63189362</td>\n",
       "      <td>MOTO-AUTO</td>\n",
       "      <td>MOTO</td>\n",
       "      <td>AUTO</td>\n",
       "      <td>CONDUCTOR</td>\n",
       "      <td>MASCULINO</td>\n",
       "      <td>30</td>\n",
       "    </tr>\n",
       "    <tr>\n",
       "      <th>3</th>\n",
       "      <td>2016-0004</td>\n",
       "      <td>1</td>\n",
       "      <td>2016-01-10</td>\n",
       "      <td>00:00:00</td>\n",
       "      <td>AVENIDA</td>\n",
       "      <td>VILLEGAS, CONRADO, GRAL.</td>\n",
       "      <td>8</td>\n",
       "      <td>-58.46503904</td>\n",
       "      <td>-34.68092974</td>\n",
       "      <td>MOTO-SD</td>\n",
       "      <td>MOTO</td>\n",
       "      <td>SD</td>\n",
       "      <td>CONDUCTOR</td>\n",
       "      <td>MASCULINO</td>\n",
       "      <td>18</td>\n",
       "    </tr>\n",
       "    <tr>\n",
       "      <th>4</th>\n",
       "      <td>2016-0005</td>\n",
       "      <td>1</td>\n",
       "      <td>2016-01-21</td>\n",
       "      <td>05:20:00</td>\n",
       "      <td>AVENIDA</td>\n",
       "      <td>SAENZ PE?A, LUIS, PRES.</td>\n",
       "      <td>1</td>\n",
       "      <td>-58.38718297</td>\n",
       "      <td>-34.62246630</td>\n",
       "      <td>MOTO-PASAJEROS</td>\n",
       "      <td>MOTO</td>\n",
       "      <td>PASAJEROS</td>\n",
       "      <td>CONDUCTOR</td>\n",
       "      <td>MASCULINO</td>\n",
       "      <td>29</td>\n",
       "    </tr>\n",
       "    <tr>\n",
       "      <th>...</th>\n",
       "      <td>...</td>\n",
       "      <td>...</td>\n",
       "      <td>...</td>\n",
       "      <td>...</td>\n",
       "      <td>...</td>\n",
       "      <td>...</td>\n",
       "      <td>...</td>\n",
       "      <td>...</td>\n",
       "      <td>...</td>\n",
       "      <td>...</td>\n",
       "      <td>...</td>\n",
       "      <td>...</td>\n",
       "      <td>...</td>\n",
       "      <td>...</td>\n",
       "      <td>...</td>\n",
       "    </tr>\n",
       "    <tr>\n",
       "      <th>712</th>\n",
       "      <td>2021-0093</td>\n",
       "      <td>1</td>\n",
       "      <td>2021-12-13</td>\n",
       "      <td>17:10:00</td>\n",
       "      <td>AVENIDA</td>\n",
       "      <td>MOM</td>\n",
       "      <td>7</td>\n",
       "      <td>-58.43353773</td>\n",
       "      <td>-34.64561636</td>\n",
       "      <td>MOTO-AUTO</td>\n",
       "      <td>MOTO</td>\n",
       "      <td>AUTO</td>\n",
       "      <td>PASAJERO_ACOMPAÑANTE</td>\n",
       "      <td>FEMENINO</td>\n",
       "      <td>18</td>\n",
       "    </tr>\n",
       "    <tr>\n",
       "      <th>713</th>\n",
       "      <td>2021-0094</td>\n",
       "      <td>1</td>\n",
       "      <td>2021-12-20</td>\n",
       "      <td>01:10:00</td>\n",
       "      <td>AUTOPISTA</td>\n",
       "      <td>LACARRA AV.</td>\n",
       "      <td>9</td>\n",
       "      <td>-58.46739825</td>\n",
       "      <td>-34.65117757</td>\n",
       "      <td>MOTO-AUTO</td>\n",
       "      <td>MOTO</td>\n",
       "      <td>AUTO</td>\n",
       "      <td>PASAJERO_ACOMPAÑANTE</td>\n",
       "      <td>FEMENINO</td>\n",
       "      <td>43</td>\n",
       "    </tr>\n",
       "    <tr>\n",
       "      <th>714</th>\n",
       "      <td>2021-0095</td>\n",
       "      <td>1</td>\n",
       "      <td>2021-12-30</td>\n",
       "      <td>00:43:00</td>\n",
       "      <td>AVENIDA</td>\n",
       "      <td>TERRADA</td>\n",
       "      <td>11</td>\n",
       "      <td>-58.47293407</td>\n",
       "      <td>-34.61984745</td>\n",
       "      <td>MOTO-CARGAS</td>\n",
       "      <td>MOTO</td>\n",
       "      <td>CARGAS</td>\n",
       "      <td>CONDUCTOR</td>\n",
       "      <td>MASCULINO</td>\n",
       "      <td>27</td>\n",
       "    </tr>\n",
       "    <tr>\n",
       "      <th>715</th>\n",
       "      <td>2021-0096</td>\n",
       "      <td>1</td>\n",
       "      <td>2021-12-15</td>\n",
       "      <td>10:30:00</td>\n",
       "      <td>AVENIDA</td>\n",
       "      <td>NaN</td>\n",
       "      <td>9</td>\n",
       "      <td>-58.47066794</td>\n",
       "      <td>-34.65021673</td>\n",
       "      <td>AUTO-CARGAS</td>\n",
       "      <td>AUTO</td>\n",
       "      <td>CARGAS</td>\n",
       "      <td>CONDUCTOR</td>\n",
       "      <td>MASCULINO</td>\n",
       "      <td>60</td>\n",
       "    </tr>\n",
       "    <tr>\n",
       "      <th>716</th>\n",
       "      <td>2021-0097</td>\n",
       "      <td>1</td>\n",
       "      <td>2021-11-18</td>\n",
       "      <td>06:10:00</td>\n",
       "      <td>CALLE</td>\n",
       "      <td>NaN</td>\n",
       "      <td>1</td>\n",
       "      <td>-58.37976155</td>\n",
       "      <td>-34.58679619</td>\n",
       "      <td>BICICLETA-AUTO</td>\n",
       "      <td>BICICLETA</td>\n",
       "      <td>AUTO</td>\n",
       "      <td>CICLISTA</td>\n",
       "      <td>MASCULINO</td>\n",
       "      <td>53</td>\n",
       "    </tr>\n",
       "  </tbody>\n",
       "</table>\n",
       "<p>717 rows × 15 columns</p>\n",
       "</div>"
      ],
      "text/plain": [
       "            ID  N_VICTIMAS      FECHA      HORA TIPO_DE_CALLE  \\\n",
       "0    2016-0001           1 2016-01-01  04:00:00       AVENIDA   \n",
       "1    2016-0002           1 2016-01-02  01:15:00      GRAL PAZ   \n",
       "2    2016-0003           1 2016-01-03  07:00:00       AVENIDA   \n",
       "3    2016-0004           1 2016-01-10  00:00:00       AVENIDA   \n",
       "4    2016-0005           1 2016-01-21  05:20:00       AVENIDA   \n",
       "..         ...         ...        ...       ...           ...   \n",
       "712  2021-0093           1 2021-12-13  17:10:00       AVENIDA   \n",
       "713  2021-0094           1 2021-12-20  01:10:00     AUTOPISTA   \n",
       "714  2021-0095           1 2021-12-30  00:43:00       AVENIDA   \n",
       "715  2021-0096           1 2021-12-15  10:30:00       AVENIDA   \n",
       "716  2021-0097           1 2021-11-18  06:10:00         CALLE   \n",
       "\n",
       "                                   Cruce  COMUNA         pos x         pos y  \\\n",
       "0    FERNANDEZ DE LA CRUZ, F., GRAL. AV.       8  -58.47533969  -34.68757022   \n",
       "1                    DE LOS CORRALES AV.       9  -58.50877521  -34.66977709   \n",
       "2                                    NaN       1  -58.39040293  -34.63189362   \n",
       "3               VILLEGAS, CONRADO, GRAL.       8  -58.46503904  -34.68092974   \n",
       "4                SAENZ PE?A, LUIS, PRES.       1  -58.38718297  -34.62246630   \n",
       "..                                   ...     ...           ...           ...   \n",
       "712                                  MOM       7  -58.43353773  -34.64561636   \n",
       "713                          LACARRA AV.       9  -58.46739825  -34.65117757   \n",
       "714                              TERRADA      11  -58.47293407  -34.61984745   \n",
       "715                                  NaN       9  -58.47066794  -34.65021673   \n",
       "716                                  NaN       1  -58.37976155  -34.58679619   \n",
       "\n",
       "      PARTICIPANTES    VICTIMA    ACUSADO                   ROL       SEXO  \\\n",
       "0         MOTO-AUTO       MOTO       AUTO             CONDUCTOR  MASCULINO   \n",
       "1    AUTO-PASAJEROS       AUTO  PASAJEROS             CONDUCTOR  MASCULINO   \n",
       "2         MOTO-AUTO       MOTO       AUTO             CONDUCTOR  MASCULINO   \n",
       "3           MOTO-SD       MOTO         SD             CONDUCTOR  MASCULINO   \n",
       "4    MOTO-PASAJEROS       MOTO  PASAJEROS             CONDUCTOR  MASCULINO   \n",
       "..              ...        ...        ...                   ...        ...   \n",
       "712       MOTO-AUTO       MOTO       AUTO  PASAJERO_ACOMPAÑANTE   FEMENINO   \n",
       "713       MOTO-AUTO       MOTO       AUTO  PASAJERO_ACOMPAÑANTE   FEMENINO   \n",
       "714     MOTO-CARGAS       MOTO     CARGAS             CONDUCTOR  MASCULINO   \n",
       "715     AUTO-CARGAS       AUTO     CARGAS             CONDUCTOR  MASCULINO   \n",
       "716  BICICLETA-AUTO  BICICLETA       AUTO              CICLISTA  MASCULINO   \n",
       "\n",
       "    EDAD  \n",
       "0     19  \n",
       "1     70  \n",
       "2     30  \n",
       "3     18  \n",
       "4     29  \n",
       "..   ...  \n",
       "712   18  \n",
       "713   43  \n",
       "714   27  \n",
       "715   60  \n",
       "716   53  \n",
       "\n",
       "[717 rows x 15 columns]"
      ]
     },
     "execution_count": 11,
     "metadata": {},
     "output_type": "execute_result"
    }
   ],
   "source": [
    "homicidios_df = pd.merge(left=homicidios_hechos_subset, right=homicidios_victimas_subset, left_on='ID', right_on='ID_hecho', how='left')\n",
    "homicidios_df.drop(['ID_hecho'], axis=1, inplace=True)\n",
    "homicidios_df"
   ]
  },
  {
   "cell_type": "markdown",
   "metadata": {},
   "source": [
    "### 2.2 Variables cuantitativas"
   ]
  },
  {
   "cell_type": "markdown",
   "metadata": {},
   "source": [
    "#### 2.2.1 Creación de la variable `fecha_hora`"
   ]
  },
  {
   "cell_type": "markdown",
   "metadata": {},
   "source": [
    "Procedemos a crear esta variable con el objetivo de unificar los datos contenidos en las variables `FECHA` y `HORA`, lo que nos permitirá trabajar con rangos de fechas y horas que pueden ser extraídos directamente de esta variable para posteriores análisis."
   ]
  },
  {
   "cell_type": "code",
   "execution_count": 12,
   "metadata": {},
   "outputs": [
    {
     "data": {
      "text/html": [
       "<div>\n",
       "<style scoped>\n",
       "    .dataframe tbody tr th:only-of-type {\n",
       "        vertical-align: middle;\n",
       "    }\n",
       "\n",
       "    .dataframe tbody tr th {\n",
       "        vertical-align: top;\n",
       "    }\n",
       "\n",
       "    .dataframe thead th {\n",
       "        text-align: right;\n",
       "    }\n",
       "</style>\n",
       "<table border=\"1\" class=\"dataframe\">\n",
       "  <thead>\n",
       "    <tr style=\"text-align: right;\">\n",
       "      <th></th>\n",
       "      <th>FECHA</th>\n",
       "      <th>HORA</th>\n",
       "      <th>fecha_hora</th>\n",
       "    </tr>\n",
       "  </thead>\n",
       "  <tbody>\n",
       "    <tr>\n",
       "      <th>233</th>\n",
       "      <td>2017-08-24</td>\n",
       "      <td>1900-01-01 01:10:00</td>\n",
       "      <td>2017-08-24 01:10:00</td>\n",
       "    </tr>\n",
       "    <tr>\n",
       "      <th>289</th>\n",
       "      <td>2018-01-09</td>\n",
       "      <td>1900-01-01 09:40:00</td>\n",
       "      <td>2018-01-09 09:40:00</td>\n",
       "    </tr>\n",
       "    <tr>\n",
       "      <th>474</th>\n",
       "      <td>2019-05-09</td>\n",
       "      <td>1900-01-01 03:05:00</td>\n",
       "      <td>2019-05-09 03:05:00</td>\n",
       "    </tr>\n",
       "    <tr>\n",
       "      <th>611</th>\n",
       "      <td>2020-12-19</td>\n",
       "      <td>1900-01-01 03:30:00</td>\n",
       "      <td>2020-12-19 03:30:00</td>\n",
       "    </tr>\n",
       "    <tr>\n",
       "      <th>540</th>\n",
       "      <td>2020-01-05</td>\n",
       "      <td>1900-01-01 20:00:00</td>\n",
       "      <td>2020-01-05 20:00:00</td>\n",
       "    </tr>\n",
       "  </tbody>\n",
       "</table>\n",
       "</div>"
      ],
      "text/plain": [
       "         FECHA                HORA          fecha_hora\n",
       "233 2017-08-24 1900-01-01 01:10:00 2017-08-24 01:10:00\n",
       "289 2018-01-09 1900-01-01 09:40:00 2018-01-09 09:40:00\n",
       "474 2019-05-09 1900-01-01 03:05:00 2019-05-09 03:05:00\n",
       "611 2020-12-19 1900-01-01 03:30:00 2020-12-19 03:30:00\n",
       "540 2020-01-05 1900-01-01 20:00:00 2020-01-05 20:00:00"
      ]
     },
     "execution_count": 12,
     "metadata": {},
     "output_type": "execute_result"
    }
   ],
   "source": [
    "# Se convierte la columna 'HORA' al tipo de dato datetime\n",
    "homicidios_df['HORA'] = pd.to_datetime(homicidios_df['HORA'], format=\"%H:%M:%S\", errors='coerce')\n",
    "\n",
    "# En caso de valores faltantes se imputan por la moda\n",
    "homicidios_df['HORA'] = homicidios_df['HORA'].fillna(homicidios_df['HORA'].mode().iloc[0])\n",
    "\n",
    "# Unimos las columnas 'FECHA' y 'HORA' en una nueva columna llamada 'fecha_hora'\n",
    "homicidios_df['fecha_hora'] = homicidios_df['FECHA'].dt.strftime(\"%Y-%m-%d\") + \" \" + homicidios_df['HORA'].dt.strftime(\"%H:%M:%S\")\n",
    "\n",
    "# Convertimos la columna 'fecha_hora' a tipo datetime.\n",
    "homicidios_df['fecha_hora'] = pd.to_datetime(homicidios_df['fecha_hora'])\n",
    "\n",
    "# Verificamos el resultado\n",
    "homicidios_df[['FECHA', 'HORA', 'fecha_hora']].sample(5)"
   ]
  },
  {
   "cell_type": "markdown",
   "metadata": {},
   "source": [
    "##### 2.2.2 Creación de la variable `rango_etario`"
   ]
  },
  {
   "cell_type": "markdown",
   "metadata": {},
   "source": [
    "Crearemos la variable categórica `rango_etario` a partir de la variable `EDAD` con rangos etarios comprendidos entre `0-17`, `18-29`, `30-44`, `45-64` y `65+`, con el objetivo de facilitar el análisis exploratorio de datos. Para esto, procedemos de la siguiente forma:"
   ]
  },
  {
   "cell_type": "code",
   "execution_count": 13,
   "metadata": {},
   "outputs": [
    {
     "data": {
      "text/html": [
       "<div>\n",
       "<style scoped>\n",
       "    .dataframe tbody tr th:only-of-type {\n",
       "        vertical-align: middle;\n",
       "    }\n",
       "\n",
       "    .dataframe tbody tr th {\n",
       "        vertical-align: top;\n",
       "    }\n",
       "\n",
       "    .dataframe thead th {\n",
       "        text-align: right;\n",
       "    }\n",
       "</style>\n",
       "<table border=\"1\" class=\"dataframe\">\n",
       "  <thead>\n",
       "    <tr style=\"text-align: right;\">\n",
       "      <th></th>\n",
       "      <th>EDAD</th>\n",
       "      <th>rango_edad</th>\n",
       "    </tr>\n",
       "  </thead>\n",
       "  <tbody>\n",
       "    <tr>\n",
       "      <th>437</th>\n",
       "      <td>23.0</td>\n",
       "      <td>18-29</td>\n",
       "    </tr>\n",
       "    <tr>\n",
       "      <th>121</th>\n",
       "      <td>SD</td>\n",
       "      <td>SD</td>\n",
       "    </tr>\n",
       "    <tr>\n",
       "      <th>275</th>\n",
       "      <td>SD</td>\n",
       "      <td>SD</td>\n",
       "    </tr>\n",
       "    <tr>\n",
       "      <th>6</th>\n",
       "      <td>29.0</td>\n",
       "      <td>18-29</td>\n",
       "    </tr>\n",
       "    <tr>\n",
       "      <th>419</th>\n",
       "      <td>39.0</td>\n",
       "      <td>30-44</td>\n",
       "    </tr>\n",
       "  </tbody>\n",
       "</table>\n",
       "</div>"
      ],
      "text/plain": [
       "     EDAD rango_edad\n",
       "437  23.0      18-29\n",
       "121    SD         SD\n",
       "275    SD         SD\n",
       "6    29.0      18-29\n",
       "419  39.0      30-44"
      ]
     },
     "execution_count": 13,
     "metadata": {},
     "output_type": "execute_result"
    }
   ],
   "source": [
    "# Convertimos la columna 'EDAD' a tipo de dato numérico\n",
    "homicidios_df['EDAD'] = pd.to_numeric(homicidios_df['EDAD'], errors='coerce')\n",
    "\n",
    "# Definimos los límites de los intervalos de edad\n",
    "bins = [0, 18, 30, 45, 65, 100]\n",
    "\n",
    "# Definimos las etiquetas de los intervalos de edad\n",
    "labels = ['0-17', '18-29', '30-44', '45-64', '65+']\n",
    "\n",
    "# Creamos una nueva columna 'rango_edad' con los intervalos de edad\n",
    "homicidios_df['rango_edad'] = pd.cut(homicidios_df['EDAD'], bins=bins, labels=labels, right=False)\n",
    "\n",
    "# Agregamos la categoría 'SD' a la columna 'rango_edad'\n",
    "homicidios_df['rango_edad'] = homicidios_df['rango_edad'].cat.add_categories('SD')\n",
    "homicidios_df[['EDAD','rango_edad']] = homicidios_df[['EDAD','rango_edad']].fillna('SD')\n",
    "\n",
    "# Verificamos el resultado\n",
    "homicidios_df[['EDAD','rango_edad']].sample(5)"
   ]
  },
  {
   "cell_type": "markdown",
   "metadata": {},
   "source": [
    "### 2.3 Variables cualitativas"
   ]
  },
  {
   "cell_type": "markdown",
   "metadata": {},
   "source": [
    "#### 2.3.1 Transformación de la variable `Cruce`"
   ]
  },
  {
   "cell_type": "markdown",
   "metadata": {},
   "source": [
    "Esta variable hace referencia a si el siniestro vial ocurrió en una encrucijada. Vamos a transformar el tipo de dato a booleano que es más descriptivo. Para ello, procedemos de la siguiente manera:"
   ]
  },
  {
   "cell_type": "code",
   "execution_count": 14,
   "metadata": {},
   "outputs": [
    {
     "data": {
      "text/html": [
       "<div>\n",
       "<style scoped>\n",
       "    .dataframe tbody tr th:only-of-type {\n",
       "        vertical-align: middle;\n",
       "    }\n",
       "\n",
       "    .dataframe tbody tr th {\n",
       "        vertical-align: top;\n",
       "    }\n",
       "\n",
       "    .dataframe thead th {\n",
       "        text-align: right;\n",
       "    }\n",
       "</style>\n",
       "<table border=\"1\" class=\"dataframe\">\n",
       "  <thead>\n",
       "    <tr style=\"text-align: right;\">\n",
       "      <th></th>\n",
       "      <th>Cruce</th>\n",
       "      <th>encrucijada</th>\n",
       "    </tr>\n",
       "  </thead>\n",
       "  <tbody>\n",
       "    <tr>\n",
       "      <th>452</th>\n",
       "      <td>PICHINCHA</td>\n",
       "      <td>True</td>\n",
       "    </tr>\n",
       "    <tr>\n",
       "      <th>131</th>\n",
       "      <td>FOREST AV.</td>\n",
       "      <td>True</td>\n",
       "    </tr>\n",
       "    <tr>\n",
       "      <th>64</th>\n",
       "      <td>FALCON, RAMON L.,CNEL.</td>\n",
       "      <td>True</td>\n",
       "    </tr>\n",
       "    <tr>\n",
       "      <th>252</th>\n",
       "      <td>LARRAYA</td>\n",
       "      <td>True</td>\n",
       "    </tr>\n",
       "    <tr>\n",
       "      <th>25</th>\n",
       "      <td>VALLE, ARISTOBULO DEL</td>\n",
       "      <td>True</td>\n",
       "    </tr>\n",
       "  </tbody>\n",
       "</table>\n",
       "</div>"
      ],
      "text/plain": [
       "                      Cruce  encrucijada\n",
       "452               PICHINCHA         True\n",
       "131              FOREST AV.         True\n",
       "64   FALCON, RAMON L.,CNEL.         True\n",
       "252                 LARRAYA         True\n",
       "25    VALLE, ARISTOBULO DEL         True"
      ]
     },
     "execution_count": 14,
     "metadata": {},
     "output_type": "execute_result"
    }
   ],
   "source": [
    "# Creamos una nueva columna llamada 'encrucijada' que convierte la columna 'Cruce' a booleana\n",
    "homicidios_df['encrucijada'] = pd.notna(homicidios_df['Cruce'])\n",
    "homicidios_df[['Cruce', 'encrucijada']].sample(5)"
   ]
  },
  {
   "cell_type": "markdown",
   "metadata": {},
   "source": [
    "#### 2.3.2 Tratamiento de las variables `ACUSADO`, `PARTICIPANTES` y `VICTIMA`"
   ]
  },
  {
   "cell_type": "markdown",
   "metadata": {},
   "source": [
    "Estas variables presentan un problema particular, y es que contienen categorías que no están descritas en el diccionario de datos proporcionado."
   ]
  },
  {
   "cell_type": "code",
   "execution_count": 15,
   "metadata": {},
   "outputs": [
    {
     "data": {
      "text/plain": [
       "array(['MOTO', 'AUTO', 'PEATON', 'SD', 'CARGAS', 'BICICLETA', 'PASAJEROS',\n",
       "       'MOVIL', 'OBJETO FIJO', 'PEATON_MOTO'], dtype=object)"
      ]
     },
     "execution_count": 15,
     "metadata": {},
     "output_type": "execute_result"
    }
   ],
   "source": [
    "homicidios_df.VICTIMA.unique()"
   ]
  },
  {
   "cell_type": "markdown",
   "metadata": {},
   "source": [
    "* La columna `VICTIMA` contiene las categorías `OBJETO FIJO` y `PEATON_MOTO` que no se encuentran descritas en el diccionario de datos. Procedemos a observar dichas categorías."
   ]
  },
  {
   "cell_type": "code",
   "execution_count": 16,
   "metadata": {},
   "outputs": [
    {
     "data": {
      "text/html": [
       "<div>\n",
       "<style scoped>\n",
       "    .dataframe tbody tr th:only-of-type {\n",
       "        vertical-align: middle;\n",
       "    }\n",
       "\n",
       "    .dataframe tbody tr th {\n",
       "        vertical-align: top;\n",
       "    }\n",
       "\n",
       "    .dataframe thead th {\n",
       "        text-align: right;\n",
       "    }\n",
       "</style>\n",
       "<table border=\"1\" class=\"dataframe\">\n",
       "  <thead>\n",
       "    <tr style=\"text-align: right;\">\n",
       "      <th></th>\n",
       "      <th>ID</th>\n",
       "      <th>N_VICTIMAS</th>\n",
       "      <th>FECHA</th>\n",
       "      <th>HORA</th>\n",
       "      <th>TIPO_DE_CALLE</th>\n",
       "      <th>Cruce</th>\n",
       "      <th>COMUNA</th>\n",
       "      <th>pos x</th>\n",
       "      <th>pos y</th>\n",
       "      <th>PARTICIPANTES</th>\n",
       "      <th>VICTIMA</th>\n",
       "      <th>ACUSADO</th>\n",
       "      <th>ROL</th>\n",
       "      <th>SEXO</th>\n",
       "      <th>EDAD</th>\n",
       "      <th>fecha_hora</th>\n",
       "      <th>rango_edad</th>\n",
       "      <th>encrucijada</th>\n",
       "    </tr>\n",
       "  </thead>\n",
       "  <tbody>\n",
       "    <tr>\n",
       "      <th>237</th>\n",
       "      <td>2017-0108</td>\n",
       "      <td>2</td>\n",
       "      <td>2017-09-02</td>\n",
       "      <td>1900-01-01 04:53:08</td>\n",
       "      <td>GRAL PAZ</td>\n",
       "      <td>MACHAIN</td>\n",
       "      <td>12</td>\n",
       "      <td>-58.49491054</td>\n",
       "      <td>-34.54795581</td>\n",
       "      <td>AUTO-OBJETO FIJO</td>\n",
       "      <td>OBJETO FIJO</td>\n",
       "      <td>AUTO</td>\n",
       "      <td>PASAJERO_ACOMPAÑANTE</td>\n",
       "      <td>MASCULINO</td>\n",
       "      <td>17.0</td>\n",
       "      <td>2017-09-02 04:53:08</td>\n",
       "      <td>0-17</td>\n",
       "      <td>True</td>\n",
       "    </tr>\n",
       "    <tr>\n",
       "      <th>238</th>\n",
       "      <td>2017-0108</td>\n",
       "      <td>2</td>\n",
       "      <td>2017-09-02</td>\n",
       "      <td>1900-01-01 04:53:08</td>\n",
       "      <td>GRAL PAZ</td>\n",
       "      <td>MACHAIN</td>\n",
       "      <td>12</td>\n",
       "      <td>-58.49491054</td>\n",
       "      <td>-34.54795581</td>\n",
       "      <td>AUTO-OBJETO FIJO</td>\n",
       "      <td>OBJETO FIJO</td>\n",
       "      <td>AUTO</td>\n",
       "      <td>PASAJERO_ACOMPAÑANTE</td>\n",
       "      <td>MASCULINO</td>\n",
       "      <td>10.0</td>\n",
       "      <td>2017-09-02 04:53:08</td>\n",
       "      <td>0-17</td>\n",
       "      <td>True</td>\n",
       "    </tr>\n",
       "    <tr>\n",
       "      <th>602</th>\n",
       "      <td>2020-0063</td>\n",
       "      <td>2</td>\n",
       "      <td>2020-12-05</td>\n",
       "      <td>1900-01-01 07:10:00</td>\n",
       "      <td>CALLE</td>\n",
       "      <td>ALTA GRACIA</td>\n",
       "      <td>11</td>\n",
       "      <td>-58.52783814</td>\n",
       "      <td>-34.61047001</td>\n",
       "      <td>PEATON_MOTO-MOTO</td>\n",
       "      <td>PEATON_MOTO</td>\n",
       "      <td>MOTO</td>\n",
       "      <td>PEATON</td>\n",
       "      <td>MASCULINO</td>\n",
       "      <td>38.0</td>\n",
       "      <td>2020-12-05 07:10:00</td>\n",
       "      <td>30-44</td>\n",
       "      <td>True</td>\n",
       "    </tr>\n",
       "    <tr>\n",
       "      <th>603</th>\n",
       "      <td>2020-0063</td>\n",
       "      <td>2</td>\n",
       "      <td>2020-12-05</td>\n",
       "      <td>1900-01-01 07:10:00</td>\n",
       "      <td>CALLE</td>\n",
       "      <td>ALTA GRACIA</td>\n",
       "      <td>11</td>\n",
       "      <td>-58.52783814</td>\n",
       "      <td>-34.61047001</td>\n",
       "      <td>PEATON_MOTO-MOTO</td>\n",
       "      <td>PEATON_MOTO</td>\n",
       "      <td>MOTO</td>\n",
       "      <td>PASAJERO_ACOMPAÑANTE</td>\n",
       "      <td>MASCULINO</td>\n",
       "      <td>21.0</td>\n",
       "      <td>2020-12-05 07:10:00</td>\n",
       "      <td>18-29</td>\n",
       "      <td>True</td>\n",
       "    </tr>\n",
       "  </tbody>\n",
       "</table>\n",
       "</div>"
      ],
      "text/plain": [
       "            ID  N_VICTIMAS      FECHA                HORA TIPO_DE_CALLE  \\\n",
       "237  2017-0108           2 2017-09-02 1900-01-01 04:53:08      GRAL PAZ   \n",
       "238  2017-0108           2 2017-09-02 1900-01-01 04:53:08      GRAL PAZ   \n",
       "602  2020-0063           2 2020-12-05 1900-01-01 07:10:00         CALLE   \n",
       "603  2020-0063           2 2020-12-05 1900-01-01 07:10:00         CALLE   \n",
       "\n",
       "           Cruce  COMUNA         pos x         pos y     PARTICIPANTES  \\\n",
       "237      MACHAIN      12  -58.49491054  -34.54795581  AUTO-OBJETO FIJO   \n",
       "238      MACHAIN      12  -58.49491054  -34.54795581  AUTO-OBJETO FIJO   \n",
       "602  ALTA GRACIA      11  -58.52783814  -34.61047001  PEATON_MOTO-MOTO   \n",
       "603  ALTA GRACIA      11  -58.52783814  -34.61047001  PEATON_MOTO-MOTO   \n",
       "\n",
       "         VICTIMA ACUSADO                   ROL       SEXO  EDAD  \\\n",
       "237  OBJETO FIJO    AUTO  PASAJERO_ACOMPAÑANTE  MASCULINO  17.0   \n",
       "238  OBJETO FIJO    AUTO  PASAJERO_ACOMPAÑANTE  MASCULINO  10.0   \n",
       "602  PEATON_MOTO    MOTO                PEATON  MASCULINO  38.0   \n",
       "603  PEATON_MOTO    MOTO  PASAJERO_ACOMPAÑANTE  MASCULINO  21.0   \n",
       "\n",
       "             fecha_hora rango_edad  encrucijada  \n",
       "237 2017-09-02 04:53:08       0-17         True  \n",
       "238 2017-09-02 04:53:08       0-17         True  \n",
       "602 2020-12-05 07:10:00      30-44         True  \n",
       "603 2020-12-05 07:10:00      18-29         True  "
      ]
     },
     "execution_count": 16,
     "metadata": {},
     "output_type": "execute_result"
    }
   ],
   "source": [
    "homicidios_df[homicidios_df['VICTIMA'].isin(['OBJETO FIJO', 'PEATON_MOTO'])]"
   ]
  },
  {
   "cell_type": "markdown",
   "metadata": {},
   "source": [
    "* Notamos que los valores para las columnas `VICTIMA` y `ACUSADO` se encuentran invertidos. Por otro lado, la columna `PARTICIPANTES` contiene la categoría `PEATON_MOTO`.  Procedemos a corregirlos:"
   ]
  },
  {
   "cell_type": "code",
   "execution_count": 17,
   "metadata": {},
   "outputs": [
    {
     "data": {
      "text/html": [
       "<div>\n",
       "<style scoped>\n",
       "    .dataframe tbody tr th:only-of-type {\n",
       "        vertical-align: middle;\n",
       "    }\n",
       "\n",
       "    .dataframe tbody tr th {\n",
       "        vertical-align: top;\n",
       "    }\n",
       "\n",
       "    .dataframe thead th {\n",
       "        text-align: right;\n",
       "    }\n",
       "</style>\n",
       "<table border=\"1\" class=\"dataframe\">\n",
       "  <thead>\n",
       "    <tr style=\"text-align: right;\">\n",
       "      <th></th>\n",
       "      <th>ID</th>\n",
       "      <th>N_VICTIMAS</th>\n",
       "      <th>FECHA</th>\n",
       "      <th>HORA</th>\n",
       "      <th>TIPO_DE_CALLE</th>\n",
       "      <th>Cruce</th>\n",
       "      <th>COMUNA</th>\n",
       "      <th>pos x</th>\n",
       "      <th>pos y</th>\n",
       "      <th>PARTICIPANTES</th>\n",
       "      <th>VICTIMA</th>\n",
       "      <th>ACUSADO</th>\n",
       "      <th>ROL</th>\n",
       "      <th>SEXO</th>\n",
       "      <th>EDAD</th>\n",
       "      <th>fecha_hora</th>\n",
       "      <th>rango_edad</th>\n",
       "      <th>encrucijada</th>\n",
       "    </tr>\n",
       "  </thead>\n",
       "  <tbody>\n",
       "    <tr>\n",
       "      <th>237</th>\n",
       "      <td>2017-0108</td>\n",
       "      <td>2</td>\n",
       "      <td>2017-09-02</td>\n",
       "      <td>1900-01-01 04:53:08</td>\n",
       "      <td>GRAL PAZ</td>\n",
       "      <td>MACHAIN</td>\n",
       "      <td>12</td>\n",
       "      <td>-58.49491054</td>\n",
       "      <td>-34.54795581</td>\n",
       "      <td>AUTO-OBJETO FIJO</td>\n",
       "      <td>AUTO</td>\n",
       "      <td>OBJETO FIJO</td>\n",
       "      <td>PASAJERO_ACOMPAÑANTE</td>\n",
       "      <td>MASCULINO</td>\n",
       "      <td>17.0</td>\n",
       "      <td>2017-09-02 04:53:08</td>\n",
       "      <td>0-17</td>\n",
       "      <td>True</td>\n",
       "    </tr>\n",
       "    <tr>\n",
       "      <th>238</th>\n",
       "      <td>2017-0108</td>\n",
       "      <td>2</td>\n",
       "      <td>2017-09-02</td>\n",
       "      <td>1900-01-01 04:53:08</td>\n",
       "      <td>GRAL PAZ</td>\n",
       "      <td>MACHAIN</td>\n",
       "      <td>12</td>\n",
       "      <td>-58.49491054</td>\n",
       "      <td>-34.54795581</td>\n",
       "      <td>AUTO-OBJETO FIJO</td>\n",
       "      <td>AUTO</td>\n",
       "      <td>OBJETO FIJO</td>\n",
       "      <td>PASAJERO_ACOMPAÑANTE</td>\n",
       "      <td>MASCULINO</td>\n",
       "      <td>10.0</td>\n",
       "      <td>2017-09-02 04:53:08</td>\n",
       "      <td>0-17</td>\n",
       "      <td>True</td>\n",
       "    </tr>\n",
       "    <tr>\n",
       "      <th>602</th>\n",
       "      <td>2020-0063</td>\n",
       "      <td>2</td>\n",
       "      <td>2020-12-05</td>\n",
       "      <td>1900-01-01 07:10:00</td>\n",
       "      <td>CALLE</td>\n",
       "      <td>ALTA GRACIA</td>\n",
       "      <td>11</td>\n",
       "      <td>-58.52783814</td>\n",
       "      <td>-34.61047001</td>\n",
       "      <td>PEATON-MOTO</td>\n",
       "      <td>PEATON</td>\n",
       "      <td>MOTO</td>\n",
       "      <td>PEATON</td>\n",
       "      <td>MASCULINO</td>\n",
       "      <td>38.0</td>\n",
       "      <td>2020-12-05 07:10:00</td>\n",
       "      <td>30-44</td>\n",
       "      <td>True</td>\n",
       "    </tr>\n",
       "    <tr>\n",
       "      <th>603</th>\n",
       "      <td>2020-0063</td>\n",
       "      <td>2</td>\n",
       "      <td>2020-12-05</td>\n",
       "      <td>1900-01-01 07:10:00</td>\n",
       "      <td>CALLE</td>\n",
       "      <td>ALTA GRACIA</td>\n",
       "      <td>11</td>\n",
       "      <td>-58.52783814</td>\n",
       "      <td>-34.61047001</td>\n",
       "      <td>PEATON-MOTO</td>\n",
       "      <td>PEATON</td>\n",
       "      <td>MOTO</td>\n",
       "      <td>PASAJERO_ACOMPAÑANTE</td>\n",
       "      <td>MASCULINO</td>\n",
       "      <td>21.0</td>\n",
       "      <td>2020-12-05 07:10:00</td>\n",
       "      <td>18-29</td>\n",
       "      <td>True</td>\n",
       "    </tr>\n",
       "  </tbody>\n",
       "</table>\n",
       "</div>"
      ],
      "text/plain": [
       "            ID  N_VICTIMAS      FECHA                HORA TIPO_DE_CALLE  \\\n",
       "237  2017-0108           2 2017-09-02 1900-01-01 04:53:08      GRAL PAZ   \n",
       "238  2017-0108           2 2017-09-02 1900-01-01 04:53:08      GRAL PAZ   \n",
       "602  2020-0063           2 2020-12-05 1900-01-01 07:10:00         CALLE   \n",
       "603  2020-0063           2 2020-12-05 1900-01-01 07:10:00         CALLE   \n",
       "\n",
       "           Cruce  COMUNA         pos x         pos y     PARTICIPANTES  \\\n",
       "237      MACHAIN      12  -58.49491054  -34.54795581  AUTO-OBJETO FIJO   \n",
       "238      MACHAIN      12  -58.49491054  -34.54795581  AUTO-OBJETO FIJO   \n",
       "602  ALTA GRACIA      11  -58.52783814  -34.61047001       PEATON-MOTO   \n",
       "603  ALTA GRACIA      11  -58.52783814  -34.61047001       PEATON-MOTO   \n",
       "\n",
       "    VICTIMA      ACUSADO                   ROL       SEXO  EDAD  \\\n",
       "237    AUTO  OBJETO FIJO  PASAJERO_ACOMPAÑANTE  MASCULINO  17.0   \n",
       "238    AUTO  OBJETO FIJO  PASAJERO_ACOMPAÑANTE  MASCULINO  10.0   \n",
       "602  PEATON         MOTO                PEATON  MASCULINO  38.0   \n",
       "603  PEATON         MOTO  PASAJERO_ACOMPAÑANTE  MASCULINO  21.0   \n",
       "\n",
       "             fecha_hora rango_edad  encrucijada  \n",
       "237 2017-09-02 04:53:08       0-17         True  \n",
       "238 2017-09-02 04:53:08       0-17         True  \n",
       "602 2020-12-05 07:10:00      30-44         True  \n",
       "603 2020-12-05 07:10:00      18-29         True  "
      ]
     },
     "execution_count": 17,
     "metadata": {},
     "output_type": "execute_result"
    }
   ],
   "source": [
    "# Invertimos los valores de las columnas 'VICTIMA' y 'ACUSADO' en los índices 237 y 238\n",
    "homicidios_df.loc[[237, 238], ['VICTIMA', 'ACUSADO']] = homicidios_df.loc[[237, 238], ['ACUSADO', 'VICTIMA']].values\n",
    "\n",
    "# Reemplazamos los valores de las columnas 'PARTICIPANTES' y 'VICTIMA' en los índices 602 y 603\n",
    "homicidios_df.loc[[602, 603], ['PARTICIPANTES', 'VICTIMA']] = homicidios_df.loc[[602, 603], ['PARTICIPANTES', 'VICTIMA']].replace({'PEATON_MOTO-MOTO': 'PEATON-MOTO', 'PEATON_MOTO': 'PEATON'})\n",
    "homicidios_df[homicidios_df['ID'].isin(['2017-0108', '2020-0063'])]"
   ]
  },
  {
   "cell_type": "markdown",
   "metadata": {},
   "source": [
    "### 2.4 Variables con coordenadas geográficas"
   ]
  },
  {
   "cell_type": "markdown",
   "metadata": {},
   "source": [
    "Del análisis previo, se notó que hay datos faltantes en las variables con coordenadas geográficas `pos x` y `pos y`. Observemos estos registros:"
   ]
  },
  {
   "cell_type": "code",
   "execution_count": 18,
   "metadata": {},
   "outputs": [
    {
     "data": {
      "text/html": [
       "<div>\n",
       "<style scoped>\n",
       "    .dataframe tbody tr th:only-of-type {\n",
       "        vertical-align: middle;\n",
       "    }\n",
       "\n",
       "    .dataframe tbody tr th {\n",
       "        vertical-align: top;\n",
       "    }\n",
       "\n",
       "    .dataframe thead th {\n",
       "        text-align: right;\n",
       "    }\n",
       "</style>\n",
       "<table border=\"1\" class=\"dataframe\">\n",
       "  <thead>\n",
       "    <tr style=\"text-align: right;\">\n",
       "      <th></th>\n",
       "      <th>ID</th>\n",
       "      <th>N_VICTIMAS</th>\n",
       "      <th>FECHA</th>\n",
       "      <th>HORA</th>\n",
       "      <th>TIPO_DE_CALLE</th>\n",
       "      <th>Cruce</th>\n",
       "      <th>COMUNA</th>\n",
       "      <th>pos x</th>\n",
       "      <th>pos y</th>\n",
       "      <th>PARTICIPANTES</th>\n",
       "      <th>VICTIMA</th>\n",
       "      <th>ACUSADO</th>\n",
       "      <th>ROL</th>\n",
       "      <th>SEXO</th>\n",
       "      <th>EDAD</th>\n",
       "      <th>fecha_hora</th>\n",
       "      <th>rango_edad</th>\n",
       "      <th>encrucijada</th>\n",
       "    </tr>\n",
       "  </thead>\n",
       "  <tbody>\n",
       "    <tr>\n",
       "      <th>39</th>\n",
       "      <td>2016-0052</td>\n",
       "      <td>1</td>\n",
       "      <td>2016-04-20</td>\n",
       "      <td>1900-01-01 20:00:00</td>\n",
       "      <td>AUTOPISTA</td>\n",
       "      <td>NaN</td>\n",
       "      <td>13</td>\n",
       "      <td>.</td>\n",
       "      <td>.</td>\n",
       "      <td>MOTO-SD</td>\n",
       "      <td>MOTO</td>\n",
       "      <td>SD</td>\n",
       "      <td>SD</td>\n",
       "      <td>SD</td>\n",
       "      <td>SD</td>\n",
       "      <td>2016-04-20 20:00:00</td>\n",
       "      <td>SD</td>\n",
       "      <td>False</td>\n",
       "    </tr>\n",
       "    <tr>\n",
       "      <th>108</th>\n",
       "      <td>2016-0136</td>\n",
       "      <td>1</td>\n",
       "      <td>2016-10-25</td>\n",
       "      <td>1900-01-01 00:00:00</td>\n",
       "      <td>AUTOPISTA</td>\n",
       "      <td>NaN</td>\n",
       "      <td>4</td>\n",
       "      <td>.</td>\n",
       "      <td>.</td>\n",
       "      <td>MOTO-CARGAS</td>\n",
       "      <td>MOTO</td>\n",
       "      <td>CARGAS</td>\n",
       "      <td>CONDUCTOR</td>\n",
       "      <td>SD</td>\n",
       "      <td>SD</td>\n",
       "      <td>2016-10-25 00:00:00</td>\n",
       "      <td>SD</td>\n",
       "      <td>False</td>\n",
       "    </tr>\n",
       "    <tr>\n",
       "      <th>121</th>\n",
       "      <td>2016-0151</td>\n",
       "      <td>1</td>\n",
       "      <td>2016-11-18</td>\n",
       "      <td>1900-01-01 20:35:00</td>\n",
       "      <td>CALLE</td>\n",
       "      <td>NaN</td>\n",
       "      <td>0</td>\n",
       "      <td>.</td>\n",
       "      <td>.</td>\n",
       "      <td>PEATON-SD</td>\n",
       "      <td>PEATON</td>\n",
       "      <td>SD</td>\n",
       "      <td>PEATON</td>\n",
       "      <td>SD</td>\n",
       "      <td>SD</td>\n",
       "      <td>2016-11-18 20:35:00</td>\n",
       "      <td>SD</td>\n",
       "      <td>False</td>\n",
       "    </tr>\n",
       "    <tr>\n",
       "      <th>141</th>\n",
       "      <td>2016-0174</td>\n",
       "      <td>1</td>\n",
       "      <td>2016-12-27</td>\n",
       "      <td>1900-01-01 00:00:00</td>\n",
       "      <td>AUTOPISTA</td>\n",
       "      <td>NaN</td>\n",
       "      <td>0</td>\n",
       "      <td>.</td>\n",
       "      <td>.</td>\n",
       "      <td>SD-SD</td>\n",
       "      <td>SD</td>\n",
       "      <td>SD</td>\n",
       "      <td>SD</td>\n",
       "      <td>SD</td>\n",
       "      <td>SD</td>\n",
       "      <td>2016-12-27 00:00:00</td>\n",
       "      <td>SD</td>\n",
       "      <td>False</td>\n",
       "    </tr>\n",
       "    <tr>\n",
       "      <th>182</th>\n",
       "      <td>2017-0042</td>\n",
       "      <td>1</td>\n",
       "      <td>2017-04-10</td>\n",
       "      <td>1900-01-01 09:00:00</td>\n",
       "      <td>GRAL PAZ</td>\n",
       "      <td>NaN</td>\n",
       "      <td>14</td>\n",
       "      <td>.</td>\n",
       "      <td>.</td>\n",
       "      <td>MOTO-CARGAS</td>\n",
       "      <td>MOTO</td>\n",
       "      <td>CARGAS</td>\n",
       "      <td>CONDUCTOR</td>\n",
       "      <td>MASCULINO</td>\n",
       "      <td>SD</td>\n",
       "      <td>2017-04-10 09:00:00</td>\n",
       "      <td>SD</td>\n",
       "      <td>False</td>\n",
       "    </tr>\n",
       "  </tbody>\n",
       "</table>\n",
       "</div>"
      ],
      "text/plain": [
       "            ID  N_VICTIMAS      FECHA                HORA TIPO_DE_CALLE Cruce  \\\n",
       "39   2016-0052           1 2016-04-20 1900-01-01 20:00:00     AUTOPISTA   NaN   \n",
       "108  2016-0136           1 2016-10-25 1900-01-01 00:00:00     AUTOPISTA   NaN   \n",
       "121  2016-0151           1 2016-11-18 1900-01-01 20:35:00         CALLE   NaN   \n",
       "141  2016-0174           1 2016-12-27 1900-01-01 00:00:00     AUTOPISTA   NaN   \n",
       "182  2017-0042           1 2017-04-10 1900-01-01 09:00:00      GRAL PAZ   NaN   \n",
       "\n",
       "     COMUNA pos x pos y PARTICIPANTES VICTIMA ACUSADO        ROL       SEXO  \\\n",
       "39       13     .     .       MOTO-SD    MOTO      SD         SD         SD   \n",
       "108       4     .     .   MOTO-CARGAS    MOTO  CARGAS  CONDUCTOR         SD   \n",
       "121       0     .     .     PEATON-SD  PEATON      SD     PEATON         SD   \n",
       "141       0     .     .         SD-SD      SD      SD         SD         SD   \n",
       "182      14     .     .   MOTO-CARGAS    MOTO  CARGAS  CONDUCTOR  MASCULINO   \n",
       "\n",
       "    EDAD          fecha_hora rango_edad  encrucijada  \n",
       "39    SD 2016-04-20 20:00:00         SD        False  \n",
       "108   SD 2016-10-25 00:00:00         SD        False  \n",
       "121   SD 2016-11-18 20:35:00         SD        False  \n",
       "141   SD 2016-12-27 00:00:00         SD        False  \n",
       "182   SD 2017-04-10 09:00:00         SD        False  "
      ]
     },
     "execution_count": 18,
     "metadata": {},
     "output_type": "execute_result"
    }
   ],
   "source": [
    "homicidios_df[homicidios_df['pos x'] == '.'].head()"
   ]
  },
  {
   "cell_type": "markdown",
   "metadata": {},
   "source": [
    "Se podría considerar complementar estos valores faltantes utilizando como referencia otras variables del conjunto de datos, como la `Dirección Normalizada`, por ejemplo. Pero para fines prácticos de este análisis, no se consideró hacerlo. Simplemente se imputarán con 0."
   ]
  },
  {
   "cell_type": "code",
   "execution_count": 19,
   "metadata": {},
   "outputs": [
    {
     "data": {
      "text/html": [
       "<div>\n",
       "<style scoped>\n",
       "    .dataframe tbody tr th:only-of-type {\n",
       "        vertical-align: middle;\n",
       "    }\n",
       "\n",
       "    .dataframe tbody tr th {\n",
       "        vertical-align: top;\n",
       "    }\n",
       "\n",
       "    .dataframe thead th {\n",
       "        text-align: right;\n",
       "    }\n",
       "</style>\n",
       "<table border=\"1\" class=\"dataframe\">\n",
       "  <thead>\n",
       "    <tr style=\"text-align: right;\">\n",
       "      <th></th>\n",
       "      <th>ID</th>\n",
       "      <th>N_VICTIMAS</th>\n",
       "      <th>FECHA</th>\n",
       "      <th>HORA</th>\n",
       "      <th>TIPO_DE_CALLE</th>\n",
       "      <th>Cruce</th>\n",
       "      <th>COMUNA</th>\n",
       "      <th>pos x</th>\n",
       "      <th>pos y</th>\n",
       "      <th>PARTICIPANTES</th>\n",
       "      <th>VICTIMA</th>\n",
       "      <th>ACUSADO</th>\n",
       "      <th>ROL</th>\n",
       "      <th>SEXO</th>\n",
       "      <th>EDAD</th>\n",
       "      <th>fecha_hora</th>\n",
       "      <th>rango_edad</th>\n",
       "      <th>encrucijada</th>\n",
       "    </tr>\n",
       "  </thead>\n",
       "  <tbody>\n",
       "    <tr>\n",
       "      <th>187</th>\n",
       "      <td>2017-0050</td>\n",
       "      <td>2</td>\n",
       "      <td>2017-04-28</td>\n",
       "      <td>1900-01-01 11:08:08</td>\n",
       "      <td>AUTOPISTA</td>\n",
       "      <td>NaN</td>\n",
       "      <td>9</td>\n",
       "      <td>0</td>\n",
       "      <td>0</td>\n",
       "      <td>MOTO-CARGAS</td>\n",
       "      <td>MOTO</td>\n",
       "      <td>CARGAS</td>\n",
       "      <td>PASAJERO_ACOMPAÑANTE</td>\n",
       "      <td>MASCULINO</td>\n",
       "      <td>16.0</td>\n",
       "      <td>2017-04-28 11:08:08</td>\n",
       "      <td>0-17</td>\n",
       "      <td>False</td>\n",
       "    </tr>\n",
       "  </tbody>\n",
       "</table>\n",
       "</div>"
      ],
      "text/plain": [
       "            ID  N_VICTIMAS      FECHA                HORA TIPO_DE_CALLE Cruce  \\\n",
       "187  2017-0050           2 2017-04-28 1900-01-01 11:08:08     AUTOPISTA   NaN   \n",
       "\n",
       "     COMUNA pos x pos y PARTICIPANTES VICTIMA ACUSADO                   ROL  \\\n",
       "187       9     0     0   MOTO-CARGAS    MOTO  CARGAS  PASAJERO_ACOMPAÑANTE   \n",
       "\n",
       "          SEXO  EDAD          fecha_hora rango_edad  encrucijada  \n",
       "187  MASCULINO  16.0 2017-04-28 11:08:08       0-17        False  "
      ]
     },
     "execution_count": 19,
     "metadata": {},
     "output_type": "execute_result"
    }
   ],
   "source": [
    "# Se reemplazan los valores faltantes por 0\n",
    "homicidios_df[['pos x', 'pos y']] = homicidios_df[['pos x', 'pos y']].replace('.', 0)\n",
    "homicidios_df[homicidios_df['pos x'] == 0].sample()\n"
   ]
  },
  {
   "cell_type": "markdown",
   "metadata": {},
   "source": [
    "#### 2.5 Selección de variables transformadas"
   ]
  },
  {
   "cell_type": "markdown",
   "metadata": {},
   "source": [
    "En vista de que el objetivo principal de esta etapa del proceso de ETL es realizar la limpieza inicial de los datos y las transformaciones necesarias que nos permitan crear nuevas columnas a partir de las existentes, con el fin de enriquecer el análisis posterior, eliminaremos las columnas hasta este punto innecesarias y nos quedaremos solo con las útiles o relevantes."
   ]
  },
  {
   "cell_type": "code",
   "execution_count": 20,
   "metadata": {},
   "outputs": [
    {
     "data": {
      "text/plain": [
       "Index(['ID', 'N_VICTIMAS', 'FECHA', 'HORA', 'TIPO_DE_CALLE', 'Cruce', 'COMUNA',\n",
       "       'pos x', 'pos y', 'PARTICIPANTES', 'VICTIMA', 'ACUSADO', 'ROL', 'SEXO',\n",
       "       'EDAD', 'fecha_hora', 'rango_edad', 'encrucijada'],\n",
       "      dtype='object')"
      ]
     },
     "execution_count": 20,
     "metadata": {},
     "output_type": "execute_result"
    }
   ],
   "source": [
    "homicidios_df.columns"
   ]
  },
  {
   "cell_type": "code",
   "execution_count": 21,
   "metadata": {},
   "outputs": [
    {
     "data": {
      "text/plain": [
       "Index(['ID', 'N_VICTIMAS', 'TIPO_DE_CALLE', 'COMUNA', 'pos x', 'pos y',\n",
       "       'PARTICIPANTES', 'VICTIMA', 'ACUSADO', 'ROL', 'SEXO', 'EDAD',\n",
       "       'fecha_hora', 'rango_edad', 'encrucijada'],\n",
       "      dtype='object')"
      ]
     },
     "execution_count": 21,
     "metadata": {},
     "output_type": "execute_result"
    }
   ],
   "source": [
    "columns = ['FECHA', 'HORA', 'Cruce']\n",
    "homicidios_df.drop(columns, axis=1, inplace=True)\n",
    "homicidios_df.columns"
   ]
  },
  {
   "cell_type": "markdown",
   "metadata": {},
   "source": [
    "* Por último, estandarizamos los nombres de la variables y renombramos aquellas que se crean convenientes."
   ]
  },
  {
   "cell_type": "code",
   "execution_count": 22,
   "metadata": {},
   "outputs": [
    {
     "name": "stdout",
     "output_type": "stream",
     "text": [
      "<class 'pandas.core.frame.DataFrame'>\n",
      "RangeIndex: 717 entries, 0 to 716\n",
      "Data columns (total 15 columns):\n",
      " #   Column         Non-Null Count  Dtype         \n",
      "---  ------         --------------  -----         \n",
      " 0   id             717 non-null    object        \n",
      " 1   n_victimas     717 non-null    int64         \n",
      " 2   tipo_de_calle  717 non-null    object        \n",
      " 3   comuna         717 non-null    int64         \n",
      " 4   longitud       717 non-null    object        \n",
      " 5   latitud        717 non-null    object        \n",
      " 6   participantes  717 non-null    object        \n",
      " 7   victima        717 non-null    object        \n",
      " 8   acusado        717 non-null    object        \n",
      " 9   rol            717 non-null    object        \n",
      " 10  sexo           717 non-null    object        \n",
      " 11  edad           717 non-null    object        \n",
      " 12  fecha_hora     717 non-null    datetime64[ns]\n",
      " 13  rango_edad     717 non-null    category      \n",
      " 14  encrucijada    717 non-null    bool          \n",
      "dtypes: bool(1), category(1), datetime64[ns](1), int64(2), object(10)\n",
      "memory usage: 74.6+ KB\n"
     ]
    }
   ],
   "source": [
    "# Se convierten los nombres de las columnas a minúsculas\n",
    "homicidios_df.columns = [x.lower() for x in homicidios_df.columns]\n",
    "\n",
    "# Se renombran algunas columnas\n",
    "homicidios_df.rename(columns={'pos x':'longitud', 'pos y':'latitud'}, inplace=True)\n",
    "homicidios_df.info()"
   ]
  },
  {
   "cell_type": "markdown",
   "metadata": {},
   "source": [
    "## 3 Carga"
   ]
  },
  {
   "cell_type": "markdown",
   "metadata": {},
   "source": [
    "Finalmente, en esta sección cargamos nuestros datos transformados en formato CSV a su destino final para su posterior análisis."
   ]
  },
  {
   "cell_type": "code",
   "execution_count": 23,
   "metadata": {},
   "outputs": [
    {
     "name": "stdout",
     "output_type": "stream",
     "text": [
      "El archivo homicidios_processed.csv se guardó correctamente en ../data/processed/\n"
     ]
    }
   ],
   "source": [
    "# Definimos la ruta de destino y el nombre del archivo.\n",
    "folder_path = '../data/processed/'\n",
    "file_name = 'homicidios_processed.csv'\n",
    "\n",
    "u.dataframe_to_csv(homicidios_df,folder_path,file_name)"
   ]
  },
  {
   "cell_type": "markdown",
   "metadata": {},
   "source": [
    "## 4 Referencias"
   ]
  },
  {
   "cell_type": "markdown",
   "metadata": {},
   "source": [
    "* Buenos Aires Data | Siniestros viales. (s. f.). Buenos Aires Data. https://data.buenosaires.gob.ar/dataset/victimas-siniestros-viales"
   ]
  }
 ],
 "metadata": {
  "kernelspec": {
   "display_name": "Python 3",
   "language": "python",
   "name": "python3"
  },
  "language_info": {
   "codemirror_mode": {
    "name": "ipython",
    "version": 3
   },
   "file_extension": ".py",
   "mimetype": "text/x-python",
   "name": "python",
   "nbconvert_exporter": "python",
   "pygments_lexer": "ipython3",
   "version": "3.11.5"
  }
 },
 "nbformat": 4,
 "nbformat_minor": 2
}
